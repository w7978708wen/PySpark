{
  "nbformat": 4,
  "nbformat_minor": 0,
  "metadata": {
    "colab": {
      "provenance": []
    },
    "kernelspec": {
      "name": "python3",
      "display_name": "Python 3"
    },
    "language_info": {
      "name": "python"
    }
  },
  "cells": [
    {
      "cell_type": "markdown",
      "source": [
        "#Spark's Structured APIs"
      ],
      "metadata": {
        "id": "QeTlr2ta0F0x"
      }
    },
    {
      "cell_type": "code",
      "source": [
        "from pyspark.sql import SparkSession\n",
        "\n",
        "# Create or open an existing Spark session\n",
        "spark = SparkSession.builder \\\n",
        "    .appName(\"Spark_Session_2\") \\\n",
        "    .getOrCreate()"
      ],
      "metadata": {
        "id": "S_Ps5UIda-rl"
      },
      "execution_count": 6,
      "outputs": []
    },
    {
      "cell_type": "markdown",
      "source": [
        "#Use DataFrame API"
      ],
      "metadata": {
        "id": "4CEqOHM00TsQ"
      }
    },
    {
      "cell_type": "code",
      "execution_count": 8,
      "metadata": {
        "id": "GZ-5c-Ltz9yG"
      },
      "outputs": [],
      "source": [
        "from pyspark.sql.functions import avg"
      ]
    },
    {
      "cell_type": "code",
      "source": [
        "data_df = spark.createDataFrame([(\"Tom\", 10),(\"Jerry\", 20), (\"Lays\", 30)], schema = 'name string, age int')\n",
        "\n",
        "data_df.groupBy('name').avg().show()\n"
      ],
      "metadata": {
        "colab": {
          "base_uri": "https://localhost:8080/"
        },
        "id": "sS7MJ08F0VPc",
        "outputId": "93f7056b-539c-468f-f392-a5ff6d571d8f"
      },
      "execution_count": 10,
      "outputs": [
        {
          "output_type": "stream",
          "name": "stdout",
          "text": [
            "+-----+--------+\n",
            "| name|avg(age)|\n",
            "+-----+--------+\n",
            "|  Tom|    10.0|\n",
            "| Lays|    30.0|\n",
            "|Jerry|    20.0|\n",
            "+-----+--------+\n",
            "\n"
          ]
        }
      ]
    },
    {
      "cell_type": "markdown",
      "source": [
        "# Use RDD APIs\n",
        "\n",
        "Transformations used in the following WordCount eg: flatMap and map\n",
        "\n",
        "I learned to be careful with the spelling. M is upper case in 'flatMap'.\n"
      ],
      "metadata": {
        "id": "3mpczrxl9ufm"
      }
    },
    {
      "cell_type": "markdown",
      "source": [
        "#WordCount eg."
      ],
      "metadata": {
        "id": "tCe8jgn66w1a"
      }
    },
    {
      "cell_type": "code",
      "source": [
        "#Method 1. Import a file\n",
        "#fileRDD = spark.sparkContext.textFile(\"file://home/file_folder/inputText\")\n",
        "\n",
        "#Method 2. Use a string to do word count\n",
        "fileRDD = spark.sparkContext.parallelize([\"hello word count hello\"])\n",
        "\n",
        "wordsDF = fileRDD.flatMap(lambda x: x.split(\" \")).map(lambda x: (x, )).toDF(\"word string\")\n",
        "\n",
        "#or\n",
        "# from pyspark.sql.types import StringType\n",
        "# wordsDF = spark.createDataFrame(fileRDD.flatMap(lambda x: x.split(\" \")), stringType()).withColumnRenamed(\"value\", \"word\")\n",
        "\n",
        "countDF = wordsDF.groupBy(\"word\").count()\n",
        "\n",
        "countDF.show()\n",
        "\n",
        "countDF.sort(desc(\"count\")).show()"
      ],
      "metadata": {
        "colab": {
          "base_uri": "https://localhost:8080/",
          "height": 315
        },
        "id": "7zGeBVPA63GQ",
        "outputId": "14f7d118-6f0d-4104-c61f-2e262f226e99"
      },
      "execution_count": 15,
      "outputs": [
        {
          "output_type": "stream",
          "name": "stdout",
          "text": [
            "+-----+-----+\n",
            "| word|count|\n",
            "+-----+-----+\n",
            "|hello|    2|\n",
            "|count|    1|\n",
            "| word|    1|\n",
            "+-----+-----+\n",
            "\n"
          ]
        },
        {
          "output_type": "error",
          "ename": "NameError",
          "evalue": "name 'desc' is not defined",
          "traceback": [
            "\u001b[0;31m---------------------------------------------------------------------------\u001b[0m",
            "\u001b[0;31mNameError\u001b[0m                                 Traceback (most recent call last)",
            "\u001b[0;32m/tmp/ipython-input-3175306438.py\u001b[0m in \u001b[0;36m<cell line: 0>\u001b[0;34m()\u001b[0m\n\u001b[1;32m     15\u001b[0m \u001b[0mcountDF\u001b[0m\u001b[0;34m.\u001b[0m\u001b[0mshow\u001b[0m\u001b[0;34m(\u001b[0m\u001b[0;34m)\u001b[0m\u001b[0;34m\u001b[0m\u001b[0;34m\u001b[0m\u001b[0m\n\u001b[1;32m     16\u001b[0m \u001b[0;34m\u001b[0m\u001b[0m\n\u001b[0;32m---> 17\u001b[0;31m \u001b[0mcountDF\u001b[0m\u001b[0;34m.\u001b[0m\u001b[0msort\u001b[0m\u001b[0;34m(\u001b[0m\u001b[0mdesc\u001b[0m\u001b[0;34m(\u001b[0m\u001b[0;34m\"count\"\u001b[0m\u001b[0;34m)\u001b[0m\u001b[0;34m)\u001b[0m\u001b[0;34m.\u001b[0m\u001b[0mshow\u001b[0m\u001b[0;34m(\u001b[0m\u001b[0;34m)\u001b[0m\u001b[0;34m\u001b[0m\u001b[0;34m\u001b[0m\u001b[0m\n\u001b[0m",
            "\u001b[0;31mNameError\u001b[0m: name 'desc' is not defined"
          ]
        }
      ]
    }
  ]
}